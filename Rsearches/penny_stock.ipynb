{
 "cells": [
  {
   "cell_type": "code",
   "execution_count": 4,
   "metadata": {},
   "outputs": [],
   "source": [
    "import yfinance as yf\n",
    "import requests\n",
    "import pandas as pd\n",
    "import json\n",
    "import warnings\n",
    "from bs4 import BeautifulSoup\n",
    "warnings.filterwarnings(\"ignore\")"
   ]
  },
  {
   "cell_type": "code",
   "execution_count": 11,
   "metadata": {},
   "outputs": [
    {
     "name": "stdout",
     "output_type": "stream",
     "text": [
      "Fiscal Year Ends: 9/28/2024\n",
      "Most Recent Quarter  (mrq): 9/28/2024\n",
      "Profit Margin: 23.97%\n",
      "Operating Margin  (ttm): 31.17%\n",
      "Return on Assets  (ttm): 21.46%\n",
      "Return on Equity  (ttm): 157.41%\n",
      "Revenue  (ttm): 391.03B\n",
      "Revenue Per Share  (ttm): 25.49\n",
      "Quarterly Revenue Growth  (yoy): 6.10%\n",
      "Gross Profit  (ttm): --\n",
      "EBITDA: 134.66B\n",
      "Net Income Avi to Common  (ttm): 93.74B\n",
      "Diluted EPS  (ttm): 6.09\n",
      "Quarterly Earnings Growth  (yoy): -35.80%\n",
      "Total Cash  (mrq): 65.17B\n",
      "Total Cash Per Share  (mrq): 4.31\n",
      "Total Debt  (mrq): 119.06B\n",
      "Total Debt/Equity  (mrq): 209.06%\n",
      "Current Ratio  (mrq): 0.87\n",
      "Book Value Per Share  (mrq): 3.77\n",
      "Operating Cash Flow  (ttm): 118.25B\n",
      "Levered Free Cash Flow  (ttm): 110.85B\n",
      "Beta (5Y Monthly): 1.24\n",
      "52 Week Range3: 24.42%\n",
      "S&P 500 52-Week Change3: 28.91%\n",
      "52 Week High3: 250.80\n",
      "52 Week Low3: 164.08\n",
      "50-Day Moving Average3: 231.47\n",
      "200-Day Moving Average3: 208.28\n",
      "Avg Vol (3 month)3: 47.77M\n",
      "Avg Vol (10 day)3: 39.7M\n",
      "Shares Outstanding5: 15.12B\n",
      "Implied Shares Outstanding6: 15.33B\n",
      "Float8: 15.09B\n",
      "% Held by Insiders1: 2.06%\n",
      "% Held by Institutions1: 61.94%\n",
      "Shares Short (11/29/2024)4: 154.1M\n",
      "Short Ratio (11/29/2024)4: 3.41\n",
      "Short % of Float (11/29/2024)4: 1.02%\n",
      "Short % of Shares Outstanding (11/29/2024)4: 1.02%\n",
      "Shares Short (prior month 10/31/2024)4: 133.04M\n",
      "Forward Annual Dividend Rate4: 1\n",
      "Forward Annual Dividend Yield4: 0.41%\n",
      "Trailing Annual Dividend Rate3: 0.98\n",
      "Trailing Annual Dividend Yield3: 0.40%\n",
      "5 Year Average Dividend Yield4: 0.62\n",
      "Payout Ratio4: 16.12%\n",
      "Dividend Date3: 11/14/2024\n",
      "Ex-Dividend Date4: 11/8/2024\n",
      "Last Split Factor2: 4:1\n",
      "Last Split Date3: 8/31/2020\n"
     ]
    }
   ],
   "source": [
    "import requests\n",
    "from bs4 import BeautifulSoup\n",
    "\n",
    "# URL for Apple Key Statistics on Yahoo Finance\n",
    "url = \"https://finance.yahoo.com/quote/AAPL/key-statistics/\"\n",
    "\n",
    "# Headers to mimic a real browser request\n",
    "headers = {\n",
    "    \"User-Agent\": \"Mozilla/5.0 (Windows NT 10.0; Win64; x64) AppleWebKit/537.36 (KHTML, like Gecko) Chrome/86.0.4240.198 Safari/537.36\"\n",
    "}\n",
    "\n",
    "# Sending a GET request\n",
    "response = requests.get(url, headers=headers)\n",
    "\n",
    "# Check if the request was successful\n",
    "if response.status_code == 200:\n",
    "    soup = BeautifulSoup(response.text, 'html.parser')\n",
    "    \n",
    "    # Extracting specific statistics\n",
    "    statistics = {}\n",
    "    for row in soup.select(\"table tbody tr\"):\n",
    "        # Extracting title and value\n",
    "        columns = row.find_all(\"td\")\n",
    "        if len(columns) == 2:\n",
    "            key = columns[0].get_text(strip=True)\n",
    "            value = columns[1].get_text(strip=True)\n",
    "            statistics[key] = value\n",
    "\n",
    "    # Printing the statistics\n",
    "    for key, value in statistics.items():\n",
    "        print(f\"{key}: {value}\")\n",
    "else:\n",
    "    print(f\"Failed to retrieve data. HTTP Status Code: {response.status_code}\")\n"
   ]
  },
  {
   "cell_type": "code",
   "execution_count": 16,
   "metadata": {},
   "outputs": [
    {
     "data": {
      "text/plain": [
       "10016"
      ]
     },
     "execution_count": 16,
     "metadata": {},
     "output_type": "execute_result"
    }
   ],
   "source": [
    "import json\n",
    "a = []\n",
    "with open(\"symbol_list.json\", \"r\") as f:\n",
    "    df = json.load(f)\n",
    "a = [i['ticker'] for j, i in df.items()]\n",
    "len(a)"
   ]
  },
  {
   "cell_type": "code",
   "execution_count": 15,
   "metadata": {},
   "outputs": [
    {
     "data": {
      "text/plain": [
       "10016"
      ]
     },
     "execution_count": 15,
     "metadata": {},
     "output_type": "execute_result"
    }
   ],
   "source": []
  }
 ],
 "metadata": {
  "kernelspec": {
   "display_name": "Python 3",
   "language": "python",
   "name": "python3"
  },
  "language_info": {
   "codemirror_mode": {
    "name": "ipython",
    "version": 3
   },
   "file_extension": ".py",
   "mimetype": "text/x-python",
   "name": "python",
   "nbconvert_exporter": "python",
   "pygments_lexer": "ipython3",
   "version": "3.9.6"
  }
 },
 "nbformat": 4,
 "nbformat_minor": 2
}
