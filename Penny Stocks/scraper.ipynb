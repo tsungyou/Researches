{
 "cells": [
  {
   "cell_type": "code",
   "execution_count": 2,
   "metadata": {},
   "outputs": [],
   "source": [
    "import pandas as pd\n",
    "import yfinance as yf\n",
    "import matplotlib.pyplot as plt\n",
    "import warnings\n",
    "warnings.filterwarnings(\"ignore\")\n",
    "from functions import Scraper, Screener\n"
   ]
  },
  {
   "cell_type": "code",
   "execution_count": 14,
   "metadata": {},
   "outputs": [
    {
     "name": "stdout",
     "output_type": "stream",
     "text": [
      "Defaulting to user installation because normal site-packages is not writeable\n",
      "Requirement already satisfied: selenium in /Users/tp_mini/Library/Python/3.9/lib/python/site-packages (4.23.1)\n",
      "Requirement already satisfied: webdriver-manager in /Users/tp_mini/Library/Python/3.9/lib/python/site-packages (4.0.2)\n",
      "Requirement already satisfied: pandas in /Users/tp_mini/Library/Python/3.9/lib/python/site-packages (2.2.2)\n",
      "Requirement already satisfied: urllib3[socks]<3,>=1.26 in /Users/tp_mini/Library/Python/3.9/lib/python/site-packages (from selenium) (2.2.2)\n",
      "Requirement already satisfied: trio~=0.17 in /Users/tp_mini/Library/Python/3.9/lib/python/site-packages (from selenium) (0.26.2)\n",
      "Requirement already satisfied: trio-websocket~=0.9 in /Users/tp_mini/Library/Python/3.9/lib/python/site-packages (from selenium) (0.11.1)\n",
      "Requirement already satisfied: typing_extensions~=4.9 in /Users/tp_mini/Library/Python/3.9/lib/python/site-packages (from selenium) (4.12.2)\n",
      "Requirement already satisfied: websocket-client~=1.8 in /Users/tp_mini/Library/Python/3.9/lib/python/site-packages (from selenium) (1.8.0)\n",
      "Requirement already satisfied: certifi>=2021.10.8 in /Users/tp_mini/Library/Python/3.9/lib/python/site-packages (from selenium) (2024.7.4)\n",
      "Requirement already satisfied: python-dotenv in /Users/tp_mini/Library/Python/3.9/lib/python/site-packages (from webdriver-manager) (1.0.1)\n",
      "Requirement already satisfied: requests in /Users/tp_mini/Library/Python/3.9/lib/python/site-packages (from webdriver-manager) (2.32.3)\n",
      "Requirement already satisfied: packaging in /Users/tp_mini/Library/Python/3.9/lib/python/site-packages (from webdriver-manager) (24.1)\n",
      "Requirement already satisfied: pytz>=2020.1 in /Users/tp_mini/Library/Python/3.9/lib/python/site-packages (from pandas) (2024.1)\n",
      "Requirement already satisfied: tzdata>=2022.7 in /Users/tp_mini/Library/Python/3.9/lib/python/site-packages (from pandas) (2024.1)\n",
      "Requirement already satisfied: python-dateutil>=2.8.2 in /Users/tp_mini/Library/Python/3.9/lib/python/site-packages (from pandas) (2.9.0.post0)\n",
      "Requirement already satisfied: numpy>=1.22.4 in /Users/tp_mini/Library/Python/3.9/lib/python/site-packages (from pandas) (2.0.1)\n",
      "Requirement already satisfied: six>=1.5 in /Library/Developer/CommandLineTools/Library/Frameworks/Python3.framework/Versions/3.9/lib/python3.9/site-packages (from python-dateutil>=2.8.2->pandas) (1.15.0)\n",
      "Requirement already satisfied: sniffio>=1.3.0 in /Users/tp_mini/Library/Python/3.9/lib/python/site-packages (from trio~=0.17->selenium) (1.3.1)\n",
      "Requirement already satisfied: idna in /Users/tp_mini/Library/Python/3.9/lib/python/site-packages (from trio~=0.17->selenium) (3.8)\n",
      "Requirement already satisfied: outcome in /Users/tp_mini/Library/Python/3.9/lib/python/site-packages (from trio~=0.17->selenium) (1.3.0.post0)\n",
      "Requirement already satisfied: sortedcontainers in /Users/tp_mini/Library/Python/3.9/lib/python/site-packages (from trio~=0.17->selenium) (2.4.0)\n",
      "Requirement already satisfied: attrs>=23.2.0 in /Users/tp_mini/Library/Python/3.9/lib/python/site-packages (from trio~=0.17->selenium) (24.2.0)\n",
      "Requirement already satisfied: exceptiongroup in /Users/tp_mini/Library/Python/3.9/lib/python/site-packages (from trio~=0.17->selenium) (1.2.2)\n",
      "Requirement already satisfied: wsproto>=0.14 in /Users/tp_mini/Library/Python/3.9/lib/python/site-packages (from trio-websocket~=0.9->selenium) (1.2.0)\n",
      "Requirement already satisfied: pysocks!=1.5.7,<2.0,>=1.5.6 in /Users/tp_mini/Library/Python/3.9/lib/python/site-packages (from urllib3[socks]<3,>=1.26->selenium) (1.7.1)\n",
      "Requirement already satisfied: h11<1,>=0.9.0 in /Users/tp_mini/Library/Python/3.9/lib/python/site-packages (from wsproto>=0.14->trio-websocket~=0.9->selenium) (0.14.0)\n",
      "Requirement already satisfied: charset-normalizer<4,>=2 in /Users/tp_mini/Library/Python/3.9/lib/python/site-packages (from requests->webdriver-manager) (3.3.2)\n",
      "\u001b[33mWARNING: You are using pip version 21.2.4; however, version 24.3.1 is available.\n",
      "You should consider upgrading via the '/Library/Developer/CommandLineTools/usr/bin/python3 -m pip install --upgrade pip' command.\u001b[0m\n"
     ]
    }
   ],
   "source": [
    "!pip3 install selenium webdriver-manager pandas\n"
   ]
  },
  {
   "cell_type": "code",
   "execution_count": 18,
   "metadata": {},
   "outputs": [
    {
     "name": "stdout",
     "output_type": "stream",
     "text": [
      "Data successfully scraped and saved to 'penny_stocks.csv'\n"
     ]
    }
   ],
   "source": [
    "from selenium import webdriver\n",
    "from selenium.webdriver.common.by import By\n",
    "from selenium.webdriver.chrome.service import Service\n",
    "from selenium.webdriver.support.ui import WebDriverWait\n",
    "from selenium.webdriver.support import expected_conditions as EC\n",
    "from webdriver_manager.chrome import ChromeDriverManager\n",
    "import pandas as pd\n",
    "\n",
    "# Set up WebDriver\n",
    "options = webdriver.ChromeOptions()\n",
    "options.add_argument('--headless')  # Run without opening a browser window\n",
    "options.add_argument('--disable-gpu')\n",
    "options.add_argument('--no-sandbox')\n",
    "driver = webdriver.Chrome(service=Service(ChromeDriverManager().install()), options=options)\n",
    "\n",
    "# URL to scrape\n",
    "url = \"https://stockanalysis.com/list/penny-stocks/\"\n",
    "\n",
    "try:\n",
    "    # Load the page\n",
    "    driver.get(url)\n",
    "\n",
    "    # Wait for the table to load\n",
    "    wait = WebDriverWait(driver, 10)\n",
    "    table = wait.until(EC.presence_of_element_located((By.TAG_NAME, \"table\")))\n",
    "\n",
    "    # Extract table headers\n",
    "    headers = [th.text for th in table.find_elements(By.TAG_NAME, \"th\")]\n",
    "\n",
    "    # Extract table rows\n",
    "    rows = table.find_elements(By.TAG_NAME, \"tr\")\n",
    "\n",
    "    # Extract data from each row\n",
    "    data = []\n",
    "    for row in rows[1:]:  # Skip the header row\n",
    "        cells = row.find_elements(By.TAG_NAME, \"td\")\n",
    "        if cells:\n",
    "            data.append([cell.text for cell in cells])\n",
    "\n",
    "    # Create a DataFrame\n",
    "    df = pd.DataFrame(data, columns=headers)\n",
    "\n",
    "    # Save to CSV\n",
    "    df.to_csv(\"penny_stocks.csv\", index=False)\n",
    "    print(\"Data successfully scraped and saved to 'penny_stocks.csv'\")\n",
    "\n",
    "except Exception as e:\n",
    "    print(f\"Error occurred: {e}\")\n",
    "\n",
    "finally:\n",
    "    # Close the browser\n",
    "    driver.quit()\n"
   ]
  },
  {
   "cell_type": "code",
   "execution_count": 39,
   "metadata": {},
   "outputs": [],
   "source": [
    "# Set up WebDriver\n",
    "options = webdriver.ChromeOptions()\n",
    "# options.add_argument('--headless')  # Run without opening a browser window\n",
    "options.add_argument('--disable-gpu')\n",
    "# options.add_argument('--no-sandbox')\n",
    "driver = webdriver.Chrome(service=Service(ChromeDriverManager().install()), options=options)\n",
    "\n",
    "# URL to scrape\n",
    "url = \"https://stockanalysis.com/list/penny-stocks/\"\n",
    "driver.get(url)\n",
    "wait = WebDriverWait(driver, 10)\n",
    "table = wait.until(EC.presence_of_element_located((By.TAG_NAME, \"table\")))\n"
   ]
  },
  {
   "cell_type": "code",
   "execution_count": 40,
   "metadata": {},
   "outputs": [
    {
     "ename": "ElementNotInteractableException",
     "evalue": "Message: element not interactable\n  (Session info: chrome=131.0.6778.140)\nStacktrace:\n0   chromedriver                        0x0000000104b0baf0 cxxbridge1$str$ptr + 3651580\n1   chromedriver                        0x0000000104b04340 cxxbridge1$str$ptr + 3620940\n2   chromedriver                        0x000000010456c324 cxxbridge1$string$len + 88824\n3   chromedriver                        0x00000001045b183c cxxbridge1$string$len + 372752\n4   chromedriver                        0x00000001045a6fbc cxxbridge1$string$len + 329616\n5   chromedriver                        0x00000001045a6a10 cxxbridge1$string$len + 328164\n6   chromedriver                        0x00000001045ea0fc cxxbridge1$string$len + 604368\n7   chromedriver                        0x00000001045a50b0 cxxbridge1$string$len + 321668\n8   chromedriver                        0x00000001045a5d00 cxxbridge1$string$len + 324820\n9   chromedriver                        0x0000000104ad6e34 cxxbridge1$str$ptr + 3435328\n10  chromedriver                        0x0000000104ada14c cxxbridge1$str$ptr + 3448408\n11  chromedriver                        0x0000000104abe1a8 cxxbridge1$str$ptr + 3333812\n12  chromedriver                        0x0000000104adaa0c cxxbridge1$str$ptr + 3450648\n13  chromedriver                        0x0000000104aaf9b4 cxxbridge1$str$ptr + 3274432\n14  chromedriver                        0x0000000104af5120 cxxbridge1$str$ptr + 3558956\n15  chromedriver                        0x0000000104af529c cxxbridge1$str$ptr + 3559336\n16  chromedriver                        0x0000000104b03fb4 cxxbridge1$str$ptr + 3620032\n17  libsystem_pthread.dylib             0x000000019fca2f94 _pthread_start + 136\n18  libsystem_pthread.dylib             0x000000019fc9dd34 thread_start + 8\n",
     "output_type": "error",
     "traceback": [
      "\u001b[0;31m---------------------------------------------------------------------------\u001b[0m",
      "\u001b[0;31mElementNotInteractableException\u001b[0m           Traceback (most recent call last)",
      "Cell \u001b[0;32mIn[40], line 6\u001b[0m\n\u001b[1;32m      3\u001b[0m b \u001b[38;5;241m=\u001b[39m button\u001b[38;5;241m.\u001b[39mfind_elements(By\u001b[38;5;241m.\u001b[39mTAG_NAME, \u001b[38;5;124m\"\u001b[39m\u001b[38;5;124mbutton\u001b[39m\u001b[38;5;124m\"\u001b[39m)\n\u001b[1;32m      4\u001b[0m driver\u001b[38;5;241m.\u001b[39mexecute_script(\u001b[38;5;124m\"\u001b[39m\u001b[38;5;124marguments[0].scrollIntoView(true);\u001b[39m\u001b[38;5;124m\"\u001b[39m, button)\n\u001b[0;32m----> 6\u001b[0m \u001b[43mb\u001b[49m\u001b[43m[\u001b[49m\u001b[38;5;241;43m1\u001b[39;49m\u001b[43m]\u001b[49m\u001b[38;5;241;43m.\u001b[39;49m\u001b[43mclick\u001b[49m\u001b[43m(\u001b[49m\u001b[43m)\u001b[49m\n",
      "File \u001b[0;32m~/Library/Python/3.9/lib/python/site-packages/selenium/webdriver/remote/webelement.py:94\u001b[0m, in \u001b[0;36mWebElement.click\u001b[0;34m(self)\u001b[0m\n\u001b[1;32m     92\u001b[0m \u001b[38;5;28;01mdef\u001b[39;00m \u001b[38;5;21mclick\u001b[39m(\u001b[38;5;28mself\u001b[39m) \u001b[38;5;241m-\u001b[39m\u001b[38;5;241m>\u001b[39m \u001b[38;5;28;01mNone\u001b[39;00m:\n\u001b[1;32m     93\u001b[0m \u001b[38;5;250m    \u001b[39m\u001b[38;5;124;03m\"\"\"Clicks the element.\"\"\"\u001b[39;00m\n\u001b[0;32m---> 94\u001b[0m     \u001b[38;5;28;43mself\u001b[39;49m\u001b[38;5;241;43m.\u001b[39;49m\u001b[43m_execute\u001b[49m\u001b[43m(\u001b[49m\u001b[43mCommand\u001b[49m\u001b[38;5;241;43m.\u001b[39;49m\u001b[43mCLICK_ELEMENT\u001b[49m\u001b[43m)\u001b[49m\n",
      "File \u001b[0;32m~/Library/Python/3.9/lib/python/site-packages/selenium/webdriver/remote/webelement.py:395\u001b[0m, in \u001b[0;36mWebElement._execute\u001b[0;34m(self, command, params)\u001b[0m\n\u001b[1;32m    393\u001b[0m     params \u001b[38;5;241m=\u001b[39m {}\n\u001b[1;32m    394\u001b[0m params[\u001b[38;5;124m\"\u001b[39m\u001b[38;5;124mid\u001b[39m\u001b[38;5;124m\"\u001b[39m] \u001b[38;5;241m=\u001b[39m \u001b[38;5;28mself\u001b[39m\u001b[38;5;241m.\u001b[39m_id\n\u001b[0;32m--> 395\u001b[0m \u001b[38;5;28;01mreturn\u001b[39;00m \u001b[38;5;28;43mself\u001b[39;49m\u001b[38;5;241;43m.\u001b[39;49m\u001b[43m_parent\u001b[49m\u001b[38;5;241;43m.\u001b[39;49m\u001b[43mexecute\u001b[49m\u001b[43m(\u001b[49m\u001b[43mcommand\u001b[49m\u001b[43m,\u001b[49m\u001b[43m \u001b[49m\u001b[43mparams\u001b[49m\u001b[43m)\u001b[49m\n",
      "File \u001b[0;32m~/Library/Python/3.9/lib/python/site-packages/selenium/webdriver/remote/webdriver.py:354\u001b[0m, in \u001b[0;36mWebDriver.execute\u001b[0;34m(self, driver_command, params)\u001b[0m\n\u001b[1;32m    352\u001b[0m response \u001b[38;5;241m=\u001b[39m \u001b[38;5;28mself\u001b[39m\u001b[38;5;241m.\u001b[39mcommand_executor\u001b[38;5;241m.\u001b[39mexecute(driver_command, params)\n\u001b[1;32m    353\u001b[0m \u001b[38;5;28;01mif\u001b[39;00m response:\n\u001b[0;32m--> 354\u001b[0m     \u001b[38;5;28;43mself\u001b[39;49m\u001b[38;5;241;43m.\u001b[39;49m\u001b[43merror_handler\u001b[49m\u001b[38;5;241;43m.\u001b[39;49m\u001b[43mcheck_response\u001b[49m\u001b[43m(\u001b[49m\u001b[43mresponse\u001b[49m\u001b[43m)\u001b[49m\n\u001b[1;32m    355\u001b[0m     response[\u001b[38;5;124m\"\u001b[39m\u001b[38;5;124mvalue\u001b[39m\u001b[38;5;124m\"\u001b[39m] \u001b[38;5;241m=\u001b[39m \u001b[38;5;28mself\u001b[39m\u001b[38;5;241m.\u001b[39m_unwrap_value(response\u001b[38;5;241m.\u001b[39mget(\u001b[38;5;124m\"\u001b[39m\u001b[38;5;124mvalue\u001b[39m\u001b[38;5;124m\"\u001b[39m, \u001b[38;5;28;01mNone\u001b[39;00m))\n\u001b[1;32m    356\u001b[0m     \u001b[38;5;28;01mreturn\u001b[39;00m response\n",
      "File \u001b[0;32m~/Library/Python/3.9/lib/python/site-packages/selenium/webdriver/remote/errorhandler.py:229\u001b[0m, in \u001b[0;36mErrorHandler.check_response\u001b[0;34m(self, response)\u001b[0m\n\u001b[1;32m    227\u001b[0m         alert_text \u001b[38;5;241m=\u001b[39m value[\u001b[38;5;124m\"\u001b[39m\u001b[38;5;124malert\u001b[39m\u001b[38;5;124m\"\u001b[39m]\u001b[38;5;241m.\u001b[39mget(\u001b[38;5;124m\"\u001b[39m\u001b[38;5;124mtext\u001b[39m\u001b[38;5;124m\"\u001b[39m)\n\u001b[1;32m    228\u001b[0m     \u001b[38;5;28;01mraise\u001b[39;00m exception_class(message, screen, stacktrace, alert_text)  \u001b[38;5;66;03m# type: ignore[call-arg]  # mypy is not smart enough here\u001b[39;00m\n\u001b[0;32m--> 229\u001b[0m \u001b[38;5;28;01mraise\u001b[39;00m exception_class(message, screen, stacktrace)\n",
      "\u001b[0;31mElementNotInteractableException\u001b[0m: Message: element not interactable\n  (Session info: chrome=131.0.6778.140)\nStacktrace:\n0   chromedriver                        0x0000000104b0baf0 cxxbridge1$str$ptr + 3651580\n1   chromedriver                        0x0000000104b04340 cxxbridge1$str$ptr + 3620940\n2   chromedriver                        0x000000010456c324 cxxbridge1$string$len + 88824\n3   chromedriver                        0x00000001045b183c cxxbridge1$string$len + 372752\n4   chromedriver                        0x00000001045a6fbc cxxbridge1$string$len + 329616\n5   chromedriver                        0x00000001045a6a10 cxxbridge1$string$len + 328164\n6   chromedriver                        0x00000001045ea0fc cxxbridge1$string$len + 604368\n7   chromedriver                        0x00000001045a50b0 cxxbridge1$string$len + 321668\n8   chromedriver                        0x00000001045a5d00 cxxbridge1$string$len + 324820\n9   chromedriver                        0x0000000104ad6e34 cxxbridge1$str$ptr + 3435328\n10  chromedriver                        0x0000000104ada14c cxxbridge1$str$ptr + 3448408\n11  chromedriver                        0x0000000104abe1a8 cxxbridge1$str$ptr + 3333812\n12  chromedriver                        0x0000000104adaa0c cxxbridge1$str$ptr + 3450648\n13  chromedriver                        0x0000000104aaf9b4 cxxbridge1$str$ptr + 3274432\n14  chromedriver                        0x0000000104af5120 cxxbridge1$str$ptr + 3558956\n15  chromedriver                        0x0000000104af529c cxxbridge1$str$ptr + 3559336\n16  chromedriver                        0x0000000104b03fb4 cxxbridge1$str$ptr + 3620032\n17  libsystem_pthread.dylib             0x000000019fca2f94 _pthread_start + 136\n18  libsystem_pthread.dylib             0x000000019fc9dd34 thread_start + 8\n"
     ]
    }
   ],
   "source": [
    "class_1 = \"controls-btn xs:pl-1 xs:pr-1.5 bp:text-sm sm:pl-3 sm:pr-1\"\n",
    "button = wait.until(EC.presence_of_element_located((By.TAG_NAME, \"nav\")))\n",
    "b = button.find_elements(By.TAG_NAME, \"button\")\n",
    "driver.execute_script(\"arguments[0].scrollIntoView(true);\", button)\n",
    "    \n",
    "b[1].click()"
   ]
  },
  {
   "cell_type": "code",
   "execution_count": null,
   "metadata": {},
   "outputs": [],
   "source": [
    "# Set up WebDriver\n",
    "options = webdriver.ChromeOptions()\n",
    "# options.add_argument('--headless')  # Run without opening a browser window\n",
    "options.add_argument('--disable-gpu')\n",
    "# options.add_argument('--no-sandbox')\n",
    "driver = webdriver.Chrome(service=Service(ChromeDriverManager().install()), options=options)\n",
    "\n",
    "# URL to scrape\n",
    "url = \"https://stockanalysis.com/list/penny-stocks/\"\n",
    "\n",
    "try:\n",
    "    # Load the page\n",
    "    driver.get(url)\n",
    "\n",
    "    # Wait for the table to load\n",
    "    wait = WebDriverWait(driver, 10)\n",
    "    table = wait.until(EC.presence_of_element_located((By.TAG_NAME, \"table\")))\n",
    "\n",
    "    # Extract table headers\n",
    "    headers = [th.text for th in table.find_elements(By.TAG_NAME, \"th\")]\n",
    "\n",
    "    # Extract table rows\n",
    "    rows = table.find_elements(By.TAG_NAME, \"tr\")\n",
    "\n",
    "    # Extract data from each row\n",
    "    data = []\n",
    "    for row in rows[1:]:  # Skip the header row\n",
    "        cells = row.find_elements(By.TAG_NAME, \"td\")\n",
    "        if cells:\n",
    "            data.append([cell.text for cell in cells])\n",
    "\n",
    "    # Create a DataFrame\n",
    "    df = pd.DataFrame(data, columns=headers)\n",
    "\n",
    "    # Save to CSV\n",
    "    df.to_csv(\"penny_stocks.csv\", index=False)\n",
    "    print(\"Data successfully scraped and saved to 'penny_stocks.csv'\")\n",
    "\n",
    "except Exception as e:\n",
    "    print(f\"Error occurred: {e}\")\n",
    "\n",
    "finally:\n",
    "    # Close the browser\n",
    "    driver.quit()\n"
   ]
  },
  {
   "cell_type": "code",
   "execution_count": null,
   "metadata": {},
   "outputs": [],
   "source": []
  }
 ],
 "metadata": {
  "kernelspec": {
   "display_name": "Python 3",
   "language": "python",
   "name": "python3"
  },
  "language_info": {
   "codemirror_mode": {
    "name": "ipython",
    "version": 3
   },
   "file_extension": ".py",
   "mimetype": "text/x-python",
   "name": "python",
   "nbconvert_exporter": "python",
   "pygments_lexer": "ipython3",
   "version": "3.9.6"
  }
 },
 "nbformat": 4,
 "nbformat_minor": 2
}
