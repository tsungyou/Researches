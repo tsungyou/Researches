{
 "cells": [
  {
   "cell_type": "code",
   "execution_count": null,
   "metadata": {},
   "outputs": [],
   "source": [
    "class Pokemon:\n",
    "    def __init__(self, name, lv, hp):\n",
    "        self.name = name\n",
    "        self.lv = lv\n",
    "        self.hp = hp\n",
    "a = input(\"\")\n",
    "print(a)"
   ]
  }
 ],
 "metadata": {
  "language_info": {
   "name": "python"
  }
 },
 "nbformat": 4,
 "nbformat_minor": 2
}
