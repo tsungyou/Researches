{
 "cells": [
  {
   "cell_type": "code",
   "execution_count": 1,
   "metadata": {},
   "outputs": [
    {
     "name": "stdout",
     "output_type": "stream",
     "text": [
      "1\n"
     ]
    }
   ],
   "source": [
    "class Pokemon:\n",
    "    def __init__(self, name, lv, hp):\n",
    "        self.name = name\n",
    "        self.lv = lv\n",
    "        self.hp = hp\n",
    "a = input(\"\")\n",
    "print(a)"
   ]
  },
  {
   "cell_type": "code",
   "execution_count": null,
   "metadata": {},
   "outputs": [],
   "source": [
    "class Legislative:\n",
    "    def __init__(self, date, number):\n",
    "        self.bills = []\n",
    "        self.ways = []\n",
    "        self.result = []\n",
    "        print(\"Legislative Yuan is established\")\n",
    "        print(\"Date: \", date)\n",
    "        print(\"Number: \", number)\n",
    "\n",
    "    def add_bill(self, bill, way):"
   ]
  },
  {
   "cell_type": "code",
   "execution_count": 6,
   "metadata": {},
   "outputs": [
    {
     "name": "stdout",
     "output_type": "stream",
     "text": [
      "Legislative Yuan is established\n",
      "Date:  05/26\n",
      "Number:  113\n",
      "Today's meeting\n",
      "25 Vote\n",
      "27 Consult\n",
      "37 Vote\n",
      "5 consult\n",
      "1 Vote\n",
      "2 Conslut\n",
      "\n",
      "Arrange by bills\n",
      "Today's meeting\n",
      "1 Vote\n",
      "2 Conslut\n",
      "5 consult\n",
      "25 Vote\n",
      "27 Consult\n",
      "37 Vote\n",
      "\n",
      "Arrange by ways\n",
      "Today's meeting\n",
      "2 Conslut\n",
      "27 Consult\n",
      "1 Vote\n",
      "25 Vote\n",
      "37 Vote\n",
      "5 consult\n"
     ]
    }
   ],
   "source": [
    "class Legislative:\n",
    "    def __init__(self, date, number):\n",
    "        self.bills = []\n",
    "        print(\"Legislative Yuan is established\")\n",
    "        print(\"Date: \", date)\n",
    "        print(\"Number: \", number)\n",
    "\n",
    "    def add_bill(self, bill, way):\n",
    "        # Add a new bill with its discussion method\n",
    "        self.bills.append((int(bill), way))\n",
    "\n",
    "    def Bills(self):\n",
    "        # Sort bills by bill number\n",
    "        self.bills.sort(key=lambda x: x[0])\n",
    "        print(\"\\nArrange by bills\")\n",
    "        self.showing_meeting()\n",
    "\n",
    "    def Ways(self):\n",
    "        self.bills.sort(key=lambda x: (x[1], x[0]))\n",
    "        print(\"\\nArrange by ways\")\n",
    "        self.showing_meeting()\n",
    "\n",
    "    def showing_meeting(self):\n",
    "        print(\"Today's meeting\")\n",
    "        for bill, way in self.bills:\n",
    "            print(f\"{bill} {way}\")\n",
    "\n",
    "# Main program logic\n",
    "if __name__ == \"__main__\":\n",
    "    line = input()\n",
    "    date, number = line.split()\n",
    "    legislative = Legislative(date, number)\n",
    "    while True:\n",
    "        line = input()\n",
    "        if line == \"q\":\n",
    "            break\n",
    "        bill, way = line.split()\n",
    "        legislative.add_bill(bill, way)\n",
    "\n",
    "    # Call the methods in the required order\n",
    "    legislative.showing_meeting()\n",
    "    legislative.Bills()\n",
    "    legislative.Ways()"
   ]
  }
 ],
 "metadata": {
  "kernelspec": {
   "display_name": "Python 3",
   "language": "python",
   "name": "python3"
  },
  "language_info": {
   "codemirror_mode": {
    "name": "ipython",
    "version": 3
   },
   "file_extension": ".py",
   "mimetype": "text/x-python",
   "name": "python",
   "nbconvert_exporter": "python",
   "pygments_lexer": "ipython3",
   "version": "3.9.6"
  }
 },
 "nbformat": 4,
 "nbformat_minor": 2
}
